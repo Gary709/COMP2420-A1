{
 "cells": [
  {
   "cell_type": "markdown",
   "metadata": {
    "pycharm": {
     "name": "#%% md\n"
    },
    "tags": []
   },
   "source": [
    "\n",
    "\n",
    "<h1 align='center'> COMP2420/COMP6420 - Introduction to Data Management,<br/> Analysis and Security</h1>\n",
    "\n",
    "<h1 align='center'> Assignment - 1</h1>\n",
    "\n",
    "-----\n",
    "<br/>\n",
    "\n",
    "## Grading\n",
    "\n",
    "|**Maximum Marks**         |**100**\n",
    "|--------------------------|--------\n",
    "|  **Weight**              |  **15% of the Total Course Grade**\n",
    "|  **Submission deadline** |  **11:59PM, Friday, March 31**\n",
    "|  **Submission mode**     |  **Electronic, Using GitLab**\n",
    "|  **Penalty**             |  **100% after the deadline**\n",
    "\n",
    "\n",
    "## Learning Outcomes\n",
    "The following learning outcomes apply to this piece:\n",
    "- **LO3** - Demonstrate basic knowledge and understanding of descriptive and predictive data analysis methods, optimization and search, and knowledge representation.\n",
    "- **LO4** - Formulate and extract descriptive and predictive statistics from data\n",
    "- **LO5** - Analyse and interpret results from descriptive and predictive data analysis\n",
    "- **LO6** - Apply their knowledge to a given problem domain and articulate potential data analysis problems\n",
    "\n",
    "\n",
    "## Submission\n",
    "\n",
    "You need to submit the following items:\n",
    "- The notebook `Assignment_1_2023_uXXXXXXX.ipynb` (where uXXXXXXX is your uid) \n",
    "- A completed `statement-of-originality.md`, found in the root of the forked gitlab repo.\n",
    "\n",
    "Submissions are performed by pushing to your forked GitLab assignment repository. For a refresher on forking and cloning repositories, please refer to `Lab 1`. Issues with your Git repo (with the exception of a CECS/ANU wide Gitlab failure) will not be considered as grounds for an extension. You will also need to add your details below. Any variation of this will result in a `zero mark`.\n",
    "\n",
    "***** \n",
    "\n",
    "### Notes:\n",
    "\n",
    "* It is strongly advised to read the whole assignment before attempting it and have at least a cursory glance at the dataset in order to gauge the requirements and understand what you need to do as a bigger picture.\n",
    "* Backup your assignment to your Gitlab repo often. \n",
    "* Extra reading and research will be required. Make sure you include all references in your Statement of Originality. If this does not occur, at best marks will be deduced. Otherwise, academic misconduct processes will be followed.\n",
    "* For answers requiring free form written text, use the designated cells denoted by `YOUR WRITTEN ANSWER HERE` -- double click on the cell to write inside them. Leave it blank if you don't have anything to write.\n",
    "* For all coding questions please write your code after the comment `YOUR CODE HERE`. Remember to document your code using comments and doc strings as appropriate.\n",
    "* In the process of testing your code, you can insert more cells or use print statements for debugging, but when submitting your file remember to remove these cells and calls respectively. You are welcome to add additional cells to the final submission, provided they add value to the overall piece.\n",
    "* You will be marked on **correctness** and **readability** of your code, if your marker can't understand your code your marks may be deducted.\n",
    "* Comment your code.\n",
    "* Before submitting, restart the kernel in Jupyter Lab and re-run all cells before submitting your code. This will ensure the namespace has not kept any old variables, as these won't come across in submission and your code will not run. Without this, you could lose a significant number of marks.\n",
    "\n",
    "*****\n"
   ]
  },
  {
   "cell_type": "markdown",
   "metadata": {
    "pycharm": {
     "name": "#%% md\n"
    }
   },
   "source": [
    "### Enter your Student ID below:"
   ]
  },
  {
   "cell_type": "raw",
   "metadata": {
    "pycharm": {
     "name": "#%% raw\n"
    }
   },
   "source": [
    "Student ID here uxxxxxxx"
   ]
  },
  {
   "cell_type": "markdown",
   "metadata": {
    "pycharm": {
     "name": "#%% md\n"
    }
   },
   "source": []
  },
  {
   "cell_type": "markdown",
   "metadata": {
    "pycharm": {
     "name": "#%% md\n"
    }
   },
   "source": [
    "## Introduction\n",
    "\n",
    "The study of sea ice in polar regions is of great importance due to the critical role that sea ice plays in global climate and ecosystem health. Sea ice covers vast expanses of the Arctic and Antarctic oceans, acting as a reflective surface that helps regulate the Earth's temperature by reflecting sunlight back into space. As such, changes in sea ice cover (herein, we refer it to as sea ice extent) can have significant impacts on global climate patterns and ocean currents. Sea ice also provides a critical habitat for a wide range of Arctic and Antarctic marine species, including krill, polar bears, and various species of seals. The health and abundance of these species are directly linked to the extent and duration of sea ice cover extent. Furthermore, sea ice serves as a major transportation route for commercial shipping and resource extraction. Given these factors, the study of sea ice in polar regions is essential for understanding and mitigating the impacts of climate change and ensuring the long-term sustainability of polar ecosystems and human societies. \n",
    "\n",
    "The primary focus of this assignment is to conduct a some basic data analysis of sea ice extent in the polar region. The analysis will be centered on the study of a given data set (SeaIceExtent.csv). Through this study, the goal is to gain a preliminary comprehension of how sea ice extent is changing in the polar regions over time. The analysis will involve the use of statistical tools and techniques to identify trends, patterns, and anomalies in the data, as well as to develop models, particularly, linear regression models, that can help predict future changes in sea ice cover. The findings of this study will be potentially valuable in informing policy decisions related to climate change mitigation and adaptation, as well as in guiding the development of sustainable strategies for managing polar resources and ecosystems. Overall, this assignment represents an important effort to contribute to our understanding of one of the most critical and rapidly changing aspects of the Earth's climate system. With all this in mind, I hope you find joy in engaging with this assignment beyond simply completing it.\n",
    "\n"
   ]
  },
  {
   "cell_type": "markdown",
   "metadata": {
    "pycharm": {
     "name": "#%% md\n"
    }
   },
   "source": [
    "*******************\n",
    "## Package Imports"
   ]
  },
  {
   "cell_type": "code",
   "execution_count": 137,
   "metadata": {
    "pycharm": {
     "name": "#%%\n"
    }
   },
   "outputs": [],
   "source": [
    "# Common Imports\n",
    "import math\n",
    "\n",
    "import numpy as np\n",
    "import pandas as pd\n",
    "from scipy import stats\n",
    "from sklearn.linear_model import LinearRegression\n",
    "import matplotlib.pyplot as plt\n",
    "from matplotlib import cm\n",
    "import seaborn as sns\n",
    "plt.style.use('seaborn')\n",
    "%matplotlib inline"
   ]
  },
  {
   "cell_type": "code",
   "execution_count": 138,
   "metadata": {
    "pycharm": {
     "name": "#%%\n"
    }
   },
   "outputs": [],
   "source": [
    "# Import additional modules here as required\n",
    "#\n",
    "# Note that only modules in the standard Anaconda distribution are allowed. \n",
    "# If you need to install it manually, it is not an accepted package.\n",
    "#\n",
    "import statistics\n",
    "from sklearn.metrics import mean_squared_error\n",
    "from sklearn.model_selection import train_test_split\n"
   ]
  },
  {
   "cell_type": "markdown",
   "metadata": {
    "pycharm": {
     "name": "#%% md\n"
    }
   },
   "source": [
    "**Several notes on printing and plotting**\n",
    "* Throughout this assignment, when writing codes to print, your codes should <u>**include the relevant units and/or give relevant description**</u> of what you are printing. \n",
    "\n",
    "* A professional plot typically has the following characteristics:\n",
    "\n",
    "    * Clear and concise labeling: A professional plot should have clear and concise labeling of the x and y axes, as well as a clear title that conveys the purpose of the plot.\n",
    "\n",
    "    * Appropriate scales: The scales on the x and y axes should be appropriate for the data being presented. This means that the scales should be chosen so that the data is not too compressed or stretched out, and so that important features of the data are easily visible.\n",
    "\n",
    "    * Appropriate plot type: The plot type should be appropriate for the data being presented. For example, if the data is continuous, a line plot or a scatter plot may be appropriate. If the data is categorical, a bar chart or a pie chart may be more appropriate.\n",
    "\n",
    "    * Clarity: A professional plot should be visually clear and easy to interpret. This means that unnecessary elements should be removed, colors should be used judiciously, and the plot should be free of clutter.\n",
    "\n",
    "    * Consistency: A professional plot should be consistent in its formatting with other plots that may be presented in the same report. This means that font sizes, line widths, and colors should be consistent across all plots.\n"
   ]
  },
  {
   "cell_type": "markdown",
   "metadata": {
    "pycharm": {
     "name": "#%% md\n"
    }
   },
   "source": [
    "****\n",
    "## Q1: Loading and Basic Analysis of the Data\n",
    "\n",
    "Briefly state your work on each Task and justify your decisions. For example, when using an existing function, briefly state what the function does (e.g., a mean function calculates the average values of the ensambles). \n",
    "\n",
    "\n",
    "#### Task 1: Load the data file SeaIceExtent.csv into a Pandas DataFrame and make it ready for use. (4 marks)\n",
    "\n",
    "**Hints:**\n",
    "* You might want to drop unnecessary or rededundant columns and/or rows.\n",
    "\n",
    "* You might want to rename some columns and/or rows."
   ]
  },
  {
   "cell_type": "code",
   "execution_count": 103,
   "metadata": {
    "pycharm": {
     "name": "#%%\n"
    }
   },
   "outputs": [
    {
     "name": "stdout",
     "output_type": "stream",
     "text": [
      "       Year  Month  Day Antarctic_ex Antarctic_mis Arctic_ex Arctic_mis  \\\n",
      "1      1978     10   26       17.624             0    10.231          0   \n",
      "2      1978     10   28       17.803             0     10.42          0   \n",
      "3      1978     10   30        17.67             0    10.557          0   \n",
      "4      1978     11    1       17.527             0     10.67          0   \n",
      "5      1978     11    3       17.486             0    10.777          0   \n",
      "...     ...    ...  ...          ...           ...       ...        ...   \n",
      "14548  2023      3    2        1.908             0    14.627          0   \n",
      "14549  2023      3    3        1.877             0     14.61          0   \n",
      "14550  2023      3    4        1.896             0    14.641          0   \n",
      "14551  2023      3    5        1.939             0    14.646          0   \n",
      "14552  2023      3    6        2.034             0    14.579      0.003   \n",
      "\n",
      "            date  \n",
      "1     1978-10-26  \n",
      "2     1978-10-28  \n",
      "3     1978-10-30  \n",
      "4     1978-11-01  \n",
      "5     1978-11-03  \n",
      "...          ...  \n",
      "14548 2023-03-02  \n",
      "14549 2023-03-03  \n",
      "14550 2023-03-04  \n",
      "14551 2023-03-05  \n",
      "14552 2023-03-06  \n",
      "\n",
      "[14552 rows x 8 columns]\n",
      "            date  Antarctic_ex  Antarctic_mis  Arctic_ex  Arctic_mis  \\\n",
      "0     1978-10-26        17.624            0.0     10.231       0.000   \n",
      "1     1978-10-28        17.803            0.0     10.420       0.000   \n",
      "2     1978-10-30        17.670            0.0     10.557       0.000   \n",
      "3     1978-11-01        17.527            0.0     10.670       0.000   \n",
      "4     1978-11-03        17.486            0.0     10.777       0.000   \n",
      "...          ...           ...            ...        ...         ...   \n",
      "14547 2023-03-02         1.908            0.0     14.627       0.000   \n",
      "14548 2023-03-03         1.877            0.0     14.610       0.000   \n",
      "14549 2023-03-04         1.896            0.0     14.641       0.000   \n",
      "14550 2023-03-05         1.939            0.0     14.646       0.000   \n",
      "14551 2023-03-06         2.034            0.0     14.579       0.003   \n",
      "\n",
      "                                             Source Data  \n",
      "0       ['/ecs/DP1/PM/NSIDC-0051.001/1978.10.26/nt_19...  \n",
      "1       ['/ecs/DP1/PM/NSIDC-0051.001/1978.10.28/nt_19...  \n",
      "2       ['/ecs/DP1/PM/NSIDC-0051.001/1978.10.30/nt_19...  \n",
      "3       ['/ecs/DP1/PM/NSIDC-0051.001/1978.11.01/nt_19...  \n",
      "4       ['/ecs/DP1/PM/NSIDC-0051.001/1978.11.03/nt_19...  \n",
      "...                                                  ...  \n",
      "14547  ['/ecs/DP4/PM/NSIDC-0081.002/2023.03.01/NSIDC0...  \n",
      "14548  ['/ecs/DP4/PM/NSIDC-0081.002/2023.03.02/NSIDC0...  \n",
      "14549  ['/ecs/DP4/PM/NSIDC-0081.002/2023.03.03/NSIDC0...  \n",
      "14550  ['/ecs/DP4/PM/NSIDC-0081.002/2023.03.04/NSIDC0...  \n",
      "14551  ['/ecs/DP4/PM/NSIDC-0081.002/2023.03.05/NSIDC0...  \n",
      "\n",
      "[14552 rows x 6 columns]\n"
     ]
    }
   ],
   "source": [
    "# YOUR CODE HERE\n",
    "#read the data\n",
    "data = pd.read_csv('SeaIceExtent.csv')\n",
    "#rewrite the data to different colum names\n",
    "data.rename(columns={'     Extent (Antarctic)' : 'Antarctic_ex',\n",
    "                    '    Missing (Antarctic)' : 'Antarctic_mis',\n",
    "                    '     Extent (Arctic)' : 'Arctic_ex',\n",
    "                    '    Missing (Arctic)' : 'Arctic_mis'}, inplace=True)\n",
    "#drop the unit part\n",
    "data = data.drop([0], axis=0)\n",
    "#add date column at the end\n",
    "data['date'] = data['Year'].astype(str) + '-' + data[' Month'].astype(str) + '-' + data[' Day'].astype(str)\n",
    "data['date'] = data[\"date\"].apply(pd.to_datetime, format='%Y/%m/%d')\n",
    "#drop the unnecessary columns\n",
    "data = data.drop(data.columns[[7,8]], axis=1)\n",
    "print(data)\n",
    "\n",
    "#Year month day to YYYY-MM-DD\n",
    "data_use = pd.read_csv(\"SeaIceExtent.csv\",parse_dates= { 'date': ['Year', ' Month', ' Day'] },skiprows=[1] ,usecols=[0,1,2,3,4,5,6,8])\n",
    "data_use.rename(columns={'     Extent (Antarctic)' : 'Antarctic_ex',\n",
    "                    '    Missing (Antarctic)' : 'Antarctic_mis',\n",
    "                    '     Extent (Arctic)' : 'Arctic_ex',\n",
    "                    '    Missing (Arctic)' : 'Arctic_mis'}, inplace=True)\n",
    "\n",
    "print(data_use)\n",
    "\n",
    "# (ADD ANY ADDITIONAL CELLS AS REQUIRED; Same below)\n"
   ]
  },
  {
   "cell_type": "raw",
   "metadata": {
    "pycharm": {
     "name": "#%% raw\n"
    }
   },
   "source": [
    "# YOUR WRITTEN ANSWER HERE\n"
   ]
  },
  {
   "cell_type": "markdown",
   "metadata": {
    "pycharm": {
     "name": "#%% md\n"
    }
   },
   "source": [
    "#### Task 2: Data basic visualisation \n",
    "\n",
    "- Task 2.1: Access the data and print the Antarctic and Arctic sea ice extents of week 2 of S1 2023 (February 27 to March 3, 2023). (2 marks)\n",
    "    "
   ]
  },
  {
   "cell_type": "code",
   "execution_count": 104,
   "metadata": {
    "pycharm": {
     "name": "#%%\n"
    }
   },
   "outputs": [
    {
     "name": "stdout",
     "output_type": "stream",
     "text": [
      "            Antarctic_ex  Arctic_ex\n",
      "date                               \n",
      "2023-02-27         1.856     14.462\n",
      "2023-02-28         1.848     14.476\n",
      "2023-03-01         1.907     14.529\n",
      "2023-03-02         1.908     14.627\n",
      "2023-03-03         1.877     14.610\n"
     ]
    }
   ],
   "source": [
    "# YOUR CODE HERE\n",
    "#copy the data make sure it is not changed\n",
    "data_task2 = data_use.copy()\n",
    "data_task2.set_index('date', inplace = True)\n",
    "start_date = '2023-02-27'\n",
    "end_date = '2023-03-03'\n",
    "res = data_task2.loc[start_date : end_date, ['Antarctic_ex','Arctic_ex']]\n",
    "print(res)\n",
    "\n",
    "\n"
   ]
  },
  {
   "cell_type": "raw",
   "metadata": {
    "pycharm": {
     "name": "#%% raw\n"
    }
   },
   "source": [
    "# YOUR WRITTEN ANSWER HERE\n"
   ]
  },
  {
   "cell_type": "markdown",
   "metadata": {
    "pycharm": {
     "name": "#%% md\n"
    }
   },
   "source": [
    "- Task 2.2: In one figure, plot the daily trend of the Antarctic and Arctic sea ice extents.  (4 marks)\n",
    "    "
   ]
  },
  {
   "cell_type": "code",
   "execution_count": null,
   "outputs": [],
   "source": [
    "# YOUR CODE HERE\n",
    "plt.figure(figsize=(15, 6))\n",
    "#plot the data\n",
    "plt.plot(data_use['date'], data_use['Antarctic_ex'], label='Antarctic')\n",
    "plt.plot(data_use['date'], data_use['Arctic_ex'], label='Arctic')\n",
    "\n",
    "plt.title('Daily Trend of Antarctic extents and Arctic extents')\n",
    "plt.xlabel('Year')\n",
    "plt.ylabel('Extent 10^6  km^2')\n",
    "\n",
    "plt.legend()\n",
    "\n",
    "plt.show()\n",
    "\n",
    "\n"
   ],
   "metadata": {
    "collapsed": false,
    "pycharm": {
     "name": "#%%\n"
    }
   }
  },
  {
   "cell_type": "raw",
   "source": [
    "|# YOUR WRITTEN ANSWER HERE\n"
   ],
   "metadata": {
    "collapsed": false,
    "pycharm": {
     "name": "#%% raw\n"
    }
   }
  },
  {
   "cell_type": "markdown",
   "source": [
    "#### Task 3: Data basic processing\n",
    "    \n",
    "- Task 3.1: Identify the missing dates (the dates when the sea ice extents are not available): Store the total number of dates of each year in a table where each row specifies the year (column 1) and the total number of dates (column 2). Print the table. (4 marks)\n",
    "    "
   ],
   "metadata": {
    "collapsed": false,
    "pycharm": {
     "name": "#%% md\n"
    }
   }
  },
  {
   "cell_type": "code",
   "execution_count": null,
   "outputs": [],
   "source": [
    "\n",
    "\n",
    "# YOUR CODE HERE\n",
    "\n",
    "date_res = data_use.copy()\n",
    "date_res.index = pd.to_datetime(date_res['date'])\n",
    "#get the start date and end date\n",
    "start_date = date_res.index[0]\n",
    "end_date = date_res.index[-1]\n",
    "#find the missing dates rangs to a day\n",
    "date_range = pd.date_range(start_date, end_date, freq='D').difference(date_res.index)\n",
    "missing_dates = {}\n",
    "\n",
    "# count the number of missing dates by loop\n",
    "for i in date_range.year.unique():\n",
    "    missing_dates[i] = len(date_range[date_range.year == i])\n",
    "\n",
    "# create a dataframe from the missing_dates dictionary and print the table\n",
    "missing_dates_table = pd.DataFrame.from_dict(missing_dates, orient='index', columns=['Total Number of Missing Dates'])\n",
    "print(missing_dates_table)\n",
    "print(\"after 1988, the Total Number of missing dates are 0\")\n",
    "\n",
    "\n"
   ],
   "metadata": {
    "collapsed": false,
    "pycharm": {
     "name": "#%%\n"
    }
   }
  },
  {
   "cell_type": "raw",
   "source": [
    "|# YOUR WRITTEN ANSWER HERE\n"
   ],
   "metadata": {
    "collapsed": false,
    "pycharm": {
     "name": "#%% raw\n"
    }
   }
  },
  {
   "cell_type": "markdown",
   "source": [
    "- Task 3.2: Evaluate the sea ice extent monthly averages; then similar to Task 2.2, in one figure, plot the monthly trend of the Antarctic and Arctic sea ice extents. (4 marks)"
   ],
   "metadata": {
    "collapsed": false,
    "pycharm": {
     "name": "#%% md\n"
    }
   }
  },
  {
   "cell_type": "code",
   "execution_count": null,
   "outputs": [],
   "source": [
    "# YOUR CODE HERE\n",
    "data_get_monthly = data_use.copy()\n",
    "#Helper, iterate the date to month and find the missing dates and print the table\n",
    "data_get_monthly['month'] = data_get_monthly['date'].dt.month\n",
    "data_get_monthly['year'] = data_get_monthly['date'].dt.year\n",
    "data_get_monthly['day'] = data_get_monthly['date'].dt.day\n",
    "data_get_monthly['date'] = data_get_monthly['date'].dt.strftime('%Y-%m')\n",
    "data_get_monthly = data_get_monthly.groupby(['date','month','year']).mean()\n",
    "data_get_monthly = data_get_monthly.reset_index()\n",
    "print(data_get_monthly)\n",
    "\n",
    "\n",
    "plt.figure(figsize=(15, 6))\n",
    "plt.plot(data_get_monthly['date'], data_get_monthly['Antarctic_ex'], label='Antarctic')\n",
    "plt.plot(data_get_monthly['date'], data_get_monthly['Arctic_ex'], label='Arctic')\n",
    "plt.title('Monthly Trend of Antarctic extents and Arctic extents')\n",
    "plt.xlabel('Year')\n",
    "plt.ylabel('Extent (million km$^2$)')\n",
    "plt.legend()\n",
    "plt.show()"
   ],
   "metadata": {
    "collapsed": false,
    "pycharm": {
     "name": "#%%\n"
    }
   }
  },
  {
   "cell_type": "code",
   "execution_count": null,
   "outputs": [],
   "source": [
    "# YOUR CODE HERE\n",
    "\n"
   ],
   "metadata": {
    "collapsed": false,
    "pycharm": {
     "name": "#%%\n"
    }
   }
  },
  {
   "cell_type": "code",
   "execution_count": null,
   "outputs": [],
   "source": [
    "#print(data)\n",
    "#list(data.columns)"
   ],
   "metadata": {
    "collapsed": false,
    "pycharm": {
     "name": "#%%\n"
    }
   }
  },
  {
   "cell_type": "raw",
   "source": [
    "# YOUR WRITTEN ANSWER HERE\n"
   ],
   "metadata": {
    "collapsed": false,
    "pycharm": {
     "name": "#%% raw\n"
    }
   }
  },
  {
   "cell_type": "markdown",
   "source": [
    "#### Task 4: Study the central tendency of the data\n",
    "\n",
    "Recall from Lecture 3 that the most common measures of centre tendency are the 3M: Mode, Median, and\n",
    "Mean. We study these 3Ms one-by-one as below.\n",
    "\n",
    "- Task 4.1: Calculate and print the mode of both the Antarctic and Arctic sea ice extents. For this calculation, round both the Antarctic and Arctic sea ice extents to the nearest million. (4 marks)\n",
    "    "
   ],
   "metadata": {
    "collapsed": false,
    "pycharm": {
     "name": "#%% md\n"
    }
   }
  },
  {
   "cell_type": "code",
   "execution_count": null,
   "outputs": [],
   "source": [
    "# YOUR CODE HERE\n",
    "to_numb = data['Antarctic_ex'].astype(float)\n",
    "to_numA = data['Arctic_ex'].astype(float)\n",
    "antarctic_mode = round(to_numb.mode()[0])\n",
    "print(\"Antarctic sea ice extent mode:\", antarctic_mode, '10^6  km^2')\n",
    "\n",
    "# Calculate the mode of Arctic sea ice extent\n",
    "arctic_mode = round(to_numA.mode()[0])\n",
    "print(\"Arctic sea ice extent mode:\", arctic_mode,'10^6  km^2')"
   ],
   "metadata": {
    "collapsed": false,
    "pycharm": {
     "name": "#%%\n"
    }
   }
  },
  {
   "cell_type": "raw",
   "source": [
    "# YOUR WRITTEN ANSWER HERE\n"
   ],
   "metadata": {
    "collapsed": false,
    "pycharm": {
     "name": "#%% raw\n"
    }
   }
  },
  {
   "cell_type": "markdown",
   "source": [
    "- Task 4.2: Calculate and print the median of both the Antarctic and Arctic sea ice extents (2 marks)\n",
    "    "
   ],
   "metadata": {
    "collapsed": false,
    "pycharm": {
     "name": "#%% md\n"
    }
   }
  },
  {
   "cell_type": "code",
   "execution_count": null,
   "outputs": [],
   "source": [
    "# YOUR CODE HERE\n",
    "\n",
    "ant_med =data['Antarctic_ex'].median()\n",
    "arc_med = data['Arctic_ex'].median()\n",
    "print(\"The median of Antarctic sea ice extents are \",ant_med,'10^6  km^2')\n",
    "print(\"The median of Arctic sea ice extents are \",arc_med),'10^6  km^2'"
   ],
   "metadata": {
    "collapsed": false,
    "pycharm": {
     "name": "#%%\n"
    }
   }
  },
  {
   "cell_type": "raw",
   "source": [
    "# YOUR WRITTEN ANSWER HERE\n"
   ],
   "metadata": {
    "collapsed": false,
    "pycharm": {
     "name": "#%% raw\n"
    }
   }
  },
  {
   "cell_type": "markdown",
   "source": [
    "- Task 4.3: Calculate and print the mean of both the Antarctic and Arctic sea ice extents (2 marks)\n",
    "    "
   ],
   "metadata": {
    "collapsed": false,
    "pycharm": {
     "name": "#%% md\n"
    }
   }
  },
  {
   "cell_type": "code",
   "execution_count": null,
   "outputs": [],
   "source": [
    "# YOUR CODE HERE\n",
    "\n",
    "antarctic_only = data['Antarctic_ex']\n",
    "convert_antarctic = [float(i) for i in antarctic_only]\n",
    "ant_mean = np.mean(convert_antarctic)\n",
    "arctic_only = data['Arctic_ex']\n",
    "convert_arctic = [float(i) for i in arctic_only]\n",
    "art_mean = np.mean(convert_arctic)\n",
    "\n",
    "print(\"The mean of Antarctic sea ice extents are \", ant_mean,'10^6  km^2')\n",
    "print(\"The mean of Arctic sea ice extents are \", art_mean,'10^6  km^2')\n",
    "\n"
   ],
   "metadata": {
    "collapsed": false,
    "pycharm": {
     "name": "#%%\n"
    }
   }
  },
  {
   "cell_type": "raw",
   "source": [
    "# YOUR WRITTEN ANSWER HERE\n"
   ],
   "metadata": {
    "collapsed": false,
    "pycharm": {
     "name": "#%% raw\n"
    }
   }
  },
  {
   "cell_type": "markdown",
   "source": [
    "#### Task 5: Study the variability of the data\n",
    "\n",
    "- Task 5.1: Create two new columns to store the sums of the missing extents and the corresponding polar regions (adding Missing Antarctic to Antarctic; adding Missing Arctic to Arctic). (2 marks) \n",
    "    "
   ],
   "metadata": {
    "collapsed": false,
    "pycharm": {
     "name": "#%% md\n"
    }
   }
  },
  {
   "cell_type": "code",
   "execution_count": null,
   "outputs": [],
   "source": [
    "# YOUR CODE HERE\n",
    "data['Total_Antarctic'] = data['Antarctic_ex'].astype(float) + data['Antarctic_mis'].astype(float)\n",
    "data['Total_Arctic'] = data['Arctic_ex'].astype(float) + data['Arctic_mis'].astype(float)\n",
    "\n",
    "print(data)\n",
    "\n",
    "\n"
   ],
   "metadata": {
    "collapsed": false,
    "pycharm": {
     "name": "#%%\n"
    }
   }
  },
  {
   "cell_type": "raw",
   "source": [
    "# YOUR WRITTEN ANSWER HERE\n"
   ],
   "metadata": {
    "collapsed": false,
    "pycharm": {
     "name": "#%% raw\n"
    }
   }
  },
  {
   "cell_type": "markdown",
   "source": [
    "- Task 5.2: Using the two new columns, calculate and print the range of both the Antarctic and Arctic sea ice extents (2 marks)\n",
    "    "
   ],
   "metadata": {
    "collapsed": false,
    "pycharm": {
     "name": "#%% md\n"
    }
   }
  },
  {
   "cell_type": "code",
   "execution_count": null,
   "outputs": [],
   "source": [
    "# YOUR CODE HERE\n",
    "#to numeric in order to get the range\n",
    "ant_num = pd.to_numeric(data['Total_Antarctic'])\n",
    "arc_num = pd.to_numeric(data['Total_Arctic'])\n",
    "#get the range by using max and min\n",
    "range_antarctic_diff = ant_num.max() - ant_num.min()\n",
    "range_arctic_diff = arc_num.max() - arc_num.min()\n",
    "print(f\"Antarctic range: {range_arctic_diff:.3f} \",'10^6  km^2')\n",
    "print(f\"Arctic range: {range_antarctic_diff:.3f} \",'10^6  km^2')\n",
    "print(\"Range of Antarctic sea ice =  Min: \" , data['Total_Antarctic'].min() , \" Max: \" , data['Total_Antarctic'].max(),'10^6  km^2')\n",
    "print(\"Range of Antarctic sea ice =  Min: \" , data['Total_Arctic'].min() , \" Max: \" , data['Total_Arctic'].max(),'10^6  km^2')\n",
    "\n"
   ],
   "metadata": {
    "collapsed": false,
    "pycharm": {
     "name": "#%%\n"
    }
   }
  },
  {
   "cell_type": "raw",
   "source": [
    "\n",
    "# YOUR WRITTEN ANSWER HERE\n"
   ],
   "metadata": {
    "collapsed": false,
    "pycharm": {
     "name": "#%% raw\n"
    }
   }
  },
  {
   "cell_type": "markdown",
   "source": [
    "- Task 5.3: Using the two new columns, calculate and print the variance of both the Antarctic and Arctic sea ice extents (2 marks)\n",
    "    "
   ],
   "metadata": {
    "collapsed": false,
    "pycharm": {
     "name": "#%% md\n"
    }
   }
  },
  {
   "cell_type": "code",
   "execution_count": null,
   "outputs": [],
   "source": [
    "# YOUR CODE HERE\n",
    "#get the variance\n",
    "ant_var = ant_num.var()\n",
    "arc_var = arc_num.var()\n",
    "print(\"The Variable of Antarctic sea ice extents are \", ant_var, ' + 10^6  km^2')\n",
    "print(\"The Variable of Arctic sea ice extents are \" ,arc_var, ' + 10^6  km^2')\n"
   ],
   "metadata": {
    "collapsed": false,
    "pycharm": {
     "name": "#%%\n"
    }
   }
  },
  {
   "cell_type": "raw",
   "source": [
    "# YOUR WRITTEN ANSWER HERE\n"
   ],
   "metadata": {
    "collapsed": false,
    "pycharm": {
     "name": "#%% raw\n"
    }
   }
  },
  {
   "cell_type": "markdown",
   "source": [
    "- Task 5.4: Using the two new columns, calculate and print the standard deviation of both the Antarctic and Arctic sea ice extents (2 marks)"
   ],
   "metadata": {
    "collapsed": false,
    "pycharm": {
     "name": "#%% md\n"
    }
   }
  },
  {
   "cell_type": "code",
   "execution_count": null,
   "outputs": [],
   "source": [
    "# YOUR CODE HERE\n",
    "#get the standard deviation\n",
    "ant_sd = ant_num.std()\n",
    "arc_std = arc_num.std()\n",
    "print(\"The SD of Antarctic sea ice extents are \",ant_sd, ' + 10^6  km^2')\n",
    "print(\"The SD of Arctic sea ice extents are \",arc_std, ' + 10^6  km^2')"
   ],
   "metadata": {
    "collapsed": false,
    "pycharm": {
     "name": "#%%\n"
    }
   }
  },
  {
   "cell_type": "raw",
   "source": [
    "# YOUR WRITTEN ANSWER HERE\n"
   ],
   "metadata": {
    "collapsed": false,
    "pycharm": {
     "name": "#%% raw\n"
    }
   }
  },
  {
   "cell_type": "markdown",
   "source": [
    "******\n",
    "## Q2: EXPLORATORY DATA ANALYSIS\n",
    "\n",
    "In this section you are expected to do an exploratory data analysis on the dataset. Herein, we use the data generated in Task 5.1. \n",
    "\n",
    "- Task 1: Explore the correlation of the Antarctic and Arctic sea ice extents. You need to use both plot/plots and correlation test. (6 marks)"
   ],
   "metadata": {
    "collapsed": false,
    "pycharm": {
     "name": "#%% md\n"
    }
   }
  },
  {
   "cell_type": "code",
   "execution_count": null,
   "outputs": [],
   "source": [
    "# YOUR CODE HERE\n",
    "plt.figure(figsize=(15, 6))\n",
    "plt.scatter(data['Total_Antarctic'], data['Total_Arctic'], color = 'red', label = 'Antarctic vs Arctic')\n",
    "plt.xlabel('Antarctic sea ice extent (10^6 sq km)')\n",
    "plt.ylabel('Arctic sea ice extent (10^6 sq km)')\n",
    "plt.title('Antarctic vs Arctic sea ice extent')\n",
    "plt.legend()\n",
    "plt.show()\n",
    "corr = data['Total_Antarctic'].corr(data['Total_Arctic'])\n",
    "print(\"The correlation for this chart is\",corr)"
   ],
   "metadata": {
    "collapsed": false,
    "pycharm": {
     "name": "#%%\n"
    }
   }
  },
  {
   "cell_type": "raw",
   "source": [
    "# YOUR WRITTEN ANSWER HERE\n"
   ],
   "metadata": {
    "collapsed": false,
    "pycharm": {
     "name": "#%% raw\n"
    }
   }
  },
  {
   "cell_type": "markdown",
   "source": [
    "- Task 2: Shift the Arctic sea ice extent **forward** by six months (for example, this shift moves the date 15/01/2000 to 15/07/2000) and process your data appriopriately so that the dates match (4 marks)\n",
    "\n",
    "    **Hints**: (a) basically you want to remove the first six months of the Antarctic sea ice extent and the last six months so that the time window matches; (b) there are dates where either Antarctic sea ice extent or Arctic sea ice extent is missing; remove these rows to match. "
   ],
   "metadata": {
    "collapsed": false,
    "pycharm": {
     "name": "#%% md\n"
    }
   }
  },
  {
   "cell_type": "code",
   "execution_count": null,
   "outputs": [],
   "source": [
    "# YOUR CODE HERE\n",
    "data_arc = data[['date', 'Total_Arctic']]\n",
    "#shift the date by 6 months\n",
    "data_arc[\"date\"] = data_arc[\"date\"] + pd.DateOffset(months=6)\n",
    "daat_ant = data[['date', 'Total_Antarctic']]\n",
    "data_merge = pd.merge(data_arc, daat_ant, on='date', how='inner')\n",
    "#drop lines include null\n",
    "data_merge = data_merge.dropna()\n",
    "print(data_merge)\n",
    "\n"
   ],
   "metadata": {
    "collapsed": false,
    "pycharm": {
     "name": "#%%\n"
    }
   }
  },
  {
   "cell_type": "raw",
   "source": [
    "# YOUR WRITTEN ANSWER HERE\n"
   ],
   "metadata": {
    "collapsed": false,
    "pycharm": {
     "name": "#%% raw\n"
    }
   }
  },
  {
   "cell_type": "markdown",
   "source": [
    "- Task 3: Explore the correlation of the new data set. (4 marks) \n",
    "    "
   ],
   "metadata": {
    "collapsed": false,
    "pycharm": {
     "name": "#%% md\n"
    }
   }
  },
  {
   "cell_type": "code",
   "execution_count": null,
   "outputs": [],
   "source": [
    "# YOUR CODE HERE\n",
    "plt.figure(figsize=(15, 6))\n",
    "plt.scatter(data_merge['Total_Antarctic'], data_merge['Total_Arctic'], color = 'red', label = 'Antarctic vs Arctic after shifting')\n",
    "plt.xlabel('Antarctic sea ice extent (10^6 sq km)')\n",
    "plt.ylabel('Arctic sea ice extent (10^6 sq km)')\n",
    "plt.title('Antarctic vs Arctic sea ice extent after shifting')\n",
    "plt.legend()\n",
    "plt.show()\n",
    "correlation= data_merge['Total_Antarctic'].corr(data_merge['Total_Arctic'])\n",
    "print(\"The cprrelation is \" + str(correlation))"
   ],
   "metadata": {
    "collapsed": false,
    "pycharm": {
     "name": "#%%\n"
    }
   }
  },
  {
   "cell_type": "raw",
   "source": [
    "# YOUR WRITTEN ANSWER HERE\n"
   ],
   "metadata": {
    "collapsed": false,
    "pycharm": {
     "name": "#%% raw\n"
    }
   }
  },
  {
   "cell_type": "markdown",
   "source": [
    "- Task 4: Compare the results of Task 3 with Task 1 and discuss the comparison. (4 marks)\n",
    "    "
   ],
   "metadata": {
    "collapsed": false,
    "pycharm": {
     "name": "#%% md\n"
    }
   }
  },
  {
   "cell_type": "code",
   "execution_count": null,
   "outputs": [],
   "source": [
    "# YOUR CODE HERE\n",
    "plt.figure(figsize=(15, 6))\n",
    "plt.scatter(data['Total_Antarctic'], data['Total_Arctic'], color = 'red', label = 'Antarctic vs Arctic')\n",
    "plt.xlabel('Antarctic sea ice extent (10^6 sq km)')\n",
    "plt.ylabel('Arctic sea ice extent (10^6 sq km)')\n",
    "plt.title('Antarctic vs Arctic sea ice extent')\n",
    "plt.legend()\n",
    "plt.figure(figsize=(15, 6))\n",
    "plt.scatter(data_merge['Total_Antarctic'], data_merge['Total_Arctic'], color = 'blue', label = 'Antarctic vs Arctic after shifting')\n",
    "plt.xlabel('Antarctic sea ice extent (10^6 sq km)')\n",
    "plt.ylabel('Arctic sea ice extent (10^6 sq km)')\n",
    "plt.title('Antarctic vs Arctic sea ice extent')\n",
    "plt.legend()\n",
    "plt.show()\n"
   ],
   "metadata": {
    "collapsed": false,
    "pycharm": {
     "name": "#%%\n"
    }
   }
  },
  {
   "cell_type": "raw",
   "source": [
    "# YOUR WRITTEN ANSWER HERE\n",
    "It is obvious that there's a significant difference between Task 1 and Task 3. The correlation between the two variables is much higher in Task 3 than in Task 1. This is because the data in Task 3 is shifted forward by 6 months, which means that the data in Task 3 is more related to each other than the data in Task 1. The abs value of the correlation are both over 0.9 which means that the two variables are highly correlated. At the same time, the reasons of why there's the negative result in the Task1 and positive result in task2 because the season in the Arctic is reversed to the Antarctic."
   ],
   "metadata": {
    "collapsed": false,
    "pycharm": {
     "name": "#%% raw\n"
    }
   }
  },
  {
   "cell_type": "markdown",
   "source": [
    "- Task 5: Further exploration (12 marks)\n",
    "   \n",
    "    * Perform Boxplot analysis of both the the Antarctic and Arctic sea ice extents and describe the boxplots and discuss the comparison of the two. (6 marks)\n",
    "    \n",
    "    * Perform both one-sample (for Antartic sea ice extent with known value 1.0x10^7 square kilometers) and two-sample T-tests. (6 marks) **Hints** (a) The Lecture note 3 may be helpful (for example see page 49 regarding the definition); (b) Announce some descriptive stats on your data and explain what they mean in the context of this dataset.\n",
    "    "
   ],
   "metadata": {
    "collapsed": false,
    "pycharm": {
     "name": "#%% md\n"
    }
   }
  },
  {
   "cell_type": "code",
   "execution_count": null,
   "outputs": [],
   "source": [
    "# YOUR CODE HERE\n",
    "plt.boxplot([data['Total_Antarctic'],data['Total_Arctic']])\n",
    "plt.xticks([1,2],['Antarctic','Arctic'])\n",
    "plt.xlabel('Region)')\n",
    "plt.ylabel('Result of Sea ice extent (10^6 sq km)')\n",
    "\n",
    "plt.show()\n",
    "\n"
   ],
   "metadata": {
    "collapsed": false,
    "pycharm": {
     "name": "#%%\n"
    }
   }
  },
  {
   "cell_type": "raw",
   "source": [
    "# YOUR WRITTEN ANSWER HERE\n",
    "The boxplot shows the distribution of the data in Antarctic and Arcticc sea ice extent. The boxplot shows five informations. There are\n",
    "1. The minimum of the data\n",
    "2. The quartile which at the botton side of the box\n",
    "3. The median of the data which shows at the middle of the box\n",
    "4. The quartile which at the top side of the box\n",
    "5. The maximum of the data\n",
    "For this boxplot there has the similar mean number which around 12.5 * 10^6 sq km. However, the Arctic sea ice extent has a higher maximum than the Antarctic sea ice extent. Which means the arctoc sea has larger variance. The Arctic sea ice extent has a higher quartile than the Antarctic sea ice extent. The Arctic sea ice extent has a higher minimum than the Antarctic sea ice."
   ],
   "metadata": {
    "collapsed": false,
    "pycharm": {
     "name": "#%% raw\n"
    }
   }
  },
  {
   "cell_type": "code",
   "execution_count": null,
   "outputs": [],
   "source": [
    "print(np.var(data['Total_Arctic'].astype(float)), np.var(data['Total_Antarctic'].astype(float)))\n",
    "print(stats.ttest_ind(data['Total_Arctic'].astype(float), data['Total_Antarctic'].astype(float), equal_var=False))"
   ],
   "metadata": {
    "collapsed": false,
    "pycharm": {
     "name": "#%%\n"
    }
   }
  },
  {
   "cell_type": "markdown",
   "source": [
    "In this case we use the one sample t-test to comparing the mean of a sample to our hypothsied value\n",
    "H0 is the null hypothesis which is the mean of the sample is equal to the hypothesised value\n",
    "H1 is the alternative hypothesis which is the mean of the sample is not equal to the hypothesised value\n",
    "In this case we assume the value is 1.0*10^7 km^2 which means the H0 is the mean south pole sea ice extent is == 1.0*10^7 km^2 and H1 is the mean south pole sea ice extent is not == 1.0*10^7 km^2\n",
    "\n",
    "As the above result, we can use the p-value to decide whether we reject the null hypothesis or not. If the p value is too small which means the null hypothesis is not true. In this case, the p value is 0.000 which means we can reject the null hypothesis. The mean of the sample is not equal to the hypothesised value."
   ],
   "metadata": {
    "collapsed": false,
    "pycharm": {
     "name": "#%% md\n"
    }
   }
  },
  {
   "cell_type": "markdown",
   "source": [
    "******\n",
    "## Q3: Linear Regression\n",
    "\n",
    "The exciting stage is here! Your task is to create several Regression Models in this section. The goal is to build useful models (keep in mind that \"All models are wrong, but some are useful\", a quote by George Box) for forecasting the evolution of the sea ice extent. For this purpose and for simplicity, we focus on Antarctic region (only use data from the year 1980 to 2022 for the Antarctic sea ice except for Task 5 below). Herein, we use the data generated in Task 5.1. Specifically, the tasks are below.\n",
    "\n",
    "\n",
    "- Task 1: Use the data from the year 1980 to 2021 and build a linear regression model for the Antarctic sea ice extent. Specifically, \n",
    "\n",
    "    - The input (x-axis) of the model should be time (the j-th day since the first day in 01/01/1980) and the output is the predicted Antarctic sea ice extent, y-axis, for a given time/date). (4 marks)\n",
    "    \n",
    "    - Visualise the model: in a scatter plot of the data from 1980 to 2021, draw the linear regression modeled line. (4 marks)\n",
    "    \n",
    "    - Apply the model to predict the sea ice extend for the year of 2022. (2 marks)\n",
    "    \n",
    "    - Visualise and plot the comparision of the predicted values of 2022 with the actual values from the data. (4 marks)\n",
    "    \n",
    "    - Calculate the root mean squared error and R-squared value of the predicted values of 2022. (2 marks)"
   ],
   "metadata": {
    "collapsed": false,
    "pycharm": {
     "name": "#%% md\n"
    }
   }
  },
  {
   "cell_type": "code",
   "execution_count": null,
   "outputs": [],
   "source": [],
   "metadata": {
    "collapsed": false,
    "pycharm": {
     "name": "#%%\n"
    }
   }
  },
  {
   "cell_type": "code",
   "execution_count": null,
   "outputs": [],
   "source": [
    "# YOUR CODE HERE\n",
    "#get the data from 1980 to 2021\n",
    "data['date'] = pd.to_datetime(data['date'])\n",
    "start = pd.to_datetime('1980-01-01')\n",
    "end = pd.to_datetime('2021-12-31')\n",
    "date = (data['date'] >= start) & (data['date'] <= end)\n",
    "res_date = data.loc[date]\n",
    "res_date['dayIndex'] = (res_date['date'] - pd.to_datetime('1980-01-01')).dt.days\n",
    "print(res_date)\n",
    "\n",
    "df_lr = res_date\n",
    "train, test = train_test_split(df_lr, test_size=0.2)\n",
    "x_train = train[['dayIndex']]\n",
    "y_train = train[['Total_Antarctic']]\n",
    "\n",
    "x_test = test[['dayIndex']]\n",
    "y_test = test[['Total_Antarctic']]\n",
    "\n",
    "# Create an instance of the LinearRegression class and fit the model using the training data\n",
    "lr = LinearRegression()\n",
    "model = lr.fit(x_train, y_train)\n",
    "\n",
    "# Evaluate the model performance using the R-squared score\n",
    "train_score = model.score(x_train, y_train)\n",
    "test_score = model.score(x_test, y_test)\n",
    "print(\"Train Score:\", train_score)\n",
    "print(\"Test Score: \", test_score)\n",
    "y_pred = model.predict(x_test)\n",
    "\n",
    "\n",
    "plt.figure(figsize=(10, 6))\n",
    "plt.scatter(x_test['dayIndex'], y_test, color='blue', label='Actual')\n",
    "plt.plot(x_test['dayIndex'], y_pred, color='red', label = 'model_predict')\n",
    "plt.xlabel('Days since 1980')\n",
    "plt.ylabel('Antarctic sea ice extent (10^6 sq km)')\n",
    "plt.title('Linear Regression Model')\n",
    "plt.legend()\n",
    "plt.show()\n",
    "\n",
    "\n"
   ],
   "metadata": {
    "collapsed": false,
    "pycharm": {
     "name": "#%%\n"
    }
   }
  },
  {
   "cell_type": "markdown",
   "source": [],
   "metadata": {
    "collapsed": false,
    "pycharm": {
     "name": "#%% md\n"
    }
   }
  },
  {
   "cell_type": "raw",
   "source": [
    "    - Apply the model to predict the sea ice extend for the year of 2022. (2 marks)\n",
    "\n",
    "    - Visualise and plot the comparision of the predicted values of 2022 with the actual values from the data. (4 marks)\n",
    "\n",
    "    - Calculate the root mean squared error and R-squared value of the predicted values of 2022. (2 marks)\n"
   ],
   "metadata": {
    "collapsed": false,
    "pycharm": {
     "name": "#%% raw\n"
    }
   }
  },
  {
   "cell_type": "code",
   "execution_count": null,
   "outputs": [],
   "source": [
    "\n",
    "#YOUR CODE HERE\n",
    "data['date'] = pd.to_datetime(data['date'])\n",
    "start = pd.to_datetime('2022-01-01')\n",
    "end = pd.to_datetime('2022-12-31')\n",
    "date = (data['date'] >= start) & (data['date'] <= end)\n",
    "result_date = data.loc[date]\n",
    "result_date['dayIndex'] = (result_date['date'] - pd.to_datetime('2022-01-01')).dt.days\n",
    "\n",
    "df_lr = result_date\n",
    "train, test = train_test_split(df_lr, test_size=0.2)\n",
    "x_train = train[['dayIndex']]\n",
    "y_train = train[['Total_Antarctic']]\n",
    "\n",
    "x_test = test[['dayIndex']]\n",
    "y_test = test[['Total_Antarctic']]\n",
    "\n",
    "lr = LinearRegression()\n",
    "model = lr.fit(x_train, y_train)\n",
    "\n",
    "# Evaluate the model performance using the R-squared score\n",
    "train_score = model.score(x_train, y_train)\n",
    "test_score = model.score(x_test, y_test)\n",
    "print(\"Train Score:\", train_score)\n",
    "print(\"Test Score: \", test_score)\n",
    "y_pred = model.predict(x_test)\n",
    "\n",
    "plt.figure(figsize=(10, 6))\n",
    "plt.scatter(x_test['dayIndex'], y_test, color='blue', label='Actual')\n",
    "plt.plot(x_test['dayIndex'], y_pred, color='red', label = 'model_predict')\n",
    "plt.xlabel('Days since 1980')\n",
    "plt.ylabel('Antarctic sea ice extent (10^6 sq km)')\n",
    "plt.title('2022 Model of Antarctic sea ice extent')\n",
    "plt.legend()\n",
    "plt.show()\n",
    "\n",
    "# Predict and evaluate\n",
    "predict = model.predict(np.array(result_date['dayIndex']).reshape(-1, 1))\n",
    "root_mean = np.sqrt(mean_squared_error(result_date['Total_Antarctic'], predict))\n",
    "R_squared = model.score(np.array(result_date['dayIndex']).reshape(-1, 1), result_date['Total_Antarctic'])\n",
    "print('Root mean squared error: ', root_mean)\n",
    "print('R-squared value: ', R_squared)\n"
   ],
   "metadata": {
    "collapsed": false,
    "pycharm": {
     "name": "#%%\n"
    }
   }
  },
  {
   "cell_type": "markdown",
   "source": [
    "- Task 2: Perform the same study as above but build four linear regression models for each year where one for each season in the year (In Australia: December to February is summer; March to May is autumn; June to August is winter; and September to November is spring. **There are only four seasons**). (8 marks: the marks in each of the five parts in Task 1 above are halved) \n",
    "\n",
    "    **Requirements and hints are**\n",
    "\n",
    "    - Your model shall consists of line segments. Specifically, there should be four lines in each year (build a linear regression model for each season). Thus, in total, there should be 42*4=168 line segments. \n",
    "    \n",
    "    - For better visualisation of your model, you may plot each of these line segments with one color for one season. \n",
    "    \n",
    "    - In order to make a prediction about the extent of sea ice in 2022, we must use 168 line segments from the years 1980 to 2021 to create four line segments for 2022. To achieve this, we must determine the slopes and y-intercepts of these four line segments for 2022 using linear regression analysis. For example, we can use the 42 slopes of the lines of Springs over 1980 to 2021 to create a linear regression model to predict the slope of the line for Spring 2022."
   ],
   "metadata": {
    "collapsed": false,
    "pycharm": {
     "name": "#%% md\n"
    }
   }
  },
  {
   "cell_type": "code",
   "execution_count": null,
   "outputs": [],
   "source": [
    "\n",
    "\n"
   ],
   "metadata": {
    "collapsed": false,
    "pycharm": {
     "name": "#%%\n"
    }
   }
  },
  {
   "cell_type": "code",
   "execution_count": null,
   "outputs": [],
   "source": [
    "from time import strftime\n",
    "\n",
    "# YOUR CODE HERE\n",
    "\n",
    "def from_begin(df, begin_day):\n",
    "    \"\"\"\n",
    "    Add a column [\"numDays\"] into the pandas dataframe that\n",
    "    counts the number of days from the begin_day\n",
    "    \"\"\"\n",
    "    start_date_col = pd.to_datetime([begin_day] * df.shape[0], format='%Y/%m/%d')\n",
    "    df['dayIndex'] = (df['date'] - start_date_col).dt.days.astype(float)\n",
    "    return df.reset_index(drop=True)\n",
    "\n",
    "min_date = \"1979-12\"\n",
    "max_date = \"2021-12\"\n",
    "months = pd.date_range(start=min_date, end=max_date, freq='MS')\n",
    "months = months.strftime(\"%Y-%m\").tolist()\n",
    "\n",
    "summer = []\n",
    "autumn = []\n",
    "winter = []\n",
    "spring = []\n",
    "\n",
    "\n",
    "\n",
    "\n",
    "for i in range(0, len(months)-3, +3):\n",
    "    start_rec = months[i]\n",
    "    end_rec = months[i+2]\n",
    "    resu_data = data[data['date'] >= months[i]]\n",
    "    resu_data = resu_data[resu_data['date'] <= months[i+3]]\n",
    "    resu_data = from_begin(resu_data, resu_data['date'].min())\n",
    "    #print(resu_data)\n",
    "\n",
    "    lr = LinearRegression()\n",
    "    x_train = resu_data['dayIndex']\n",
    "    y_train = resu_data['Total_Antarctic']\n",
    "\n",
    "    model = lr.fit(np.array(x_train).reshape(-1, 1), y_train)\n",
    "\n",
    "    plt.figure(figsize=(15, 6))\n",
    "    plt.scatter(x_train, y_train, color = \"blue\", label = 'data_range_actual')\n",
    "\n",
    "    b0 = model.intercept_\n",
    "    b1 = model.coef_[0]\n",
    "    x_pred = [x_train.min(), x_train.max()]                      # get the bounds for x\n",
    "    y_pred = model.predict(np.array(x_pred).reshape(-1, 1))  # predict the y values\n",
    "    if i == 0:\n",
    "        season = 'summer'\n",
    "    elif i == 3:\n",
    "        season = 'autumn'\n",
    "    elif i == 6:\n",
    "        season = 'winter'\n",
    "    else:\n",
    "        season = 'spring'\n",
    "    plt.plot(x_pred, y_pred, color='red', label = 'model_predict')\n",
    "    plt.xlabel('dayIndex in ' + season)\n",
    "    plt.ylabel('Antarctic sea ice extent (10^6 sq km) in ' + season)\n",
    "    plt.title('Antarctic sea ice extent in day index with predicate results in ' + season)\n",
    "    plt.legend()\n",
    "    plt.show()\n",
    "\n",
    "\n",
    "\n",
    "\n",
    "\n",
    "\n",
    "\n",
    "\n",
    "\n",
    "\n",
    "\n",
    "\n",
    "\n",
    "\n",
    "\n"
   ],
   "metadata": {
    "collapsed": false,
    "pycharm": {
     "name": "#%%\n"
    }
   }
  },
  {
   "cell_type": "code",
   "execution_count": null,
   "outputs": [],
   "source": [
    "def from_begin(df, begin_day):\n",
    "    \"\"\"\n",
    "    Add a column [\"numDays\"] into the pandas dataframe that\n",
    "    counts the number of days from the begin_day\n",
    "    \"\"\"\n",
    "    start_date_col = pd.to_datetime([begin_day] * df.shape[0], format='%Y/%m/%d')\n",
    "    df['dayIndex'] = (df['date'] - start_date_col).dt.days.astype(float)\n",
    "    return df.reset_index(drop=True)\n",
    "\n",
    "min_date = \"2021-12\"\n",
    "max_date = \"2022-12\"\n",
    "months = pd.date_range(start=min_date, end=max_date, freq='MS')\n",
    "months = months.strftime(\"%Y-%m\").tolist()\n",
    "\n",
    "summer = []\n",
    "autumn = []\n",
    "winter = []\n",
    "spring = []\n",
    "\n",
    "\n",
    "\n",
    "for i in range(0, len(months)-3, +3):\n",
    "    start_rec = months[i]\n",
    "    end_rec = months[i+2]\n",
    "    resu_data = data[data['date'] >= months[i]]\n",
    "    resu_data = resu_data[resu_data['date'] <= months[i+3]]\n",
    "    resu_data = from_begin(resu_data, resu_data['date'].min())\n",
    "    #print(resu_data)\n",
    "\n",
    "    lr = LinearRegression()\n",
    "    x_train = resu_data['dayIndex']\n",
    "    y_train = resu_data['Total_Antarctic']\n",
    "\n",
    "    model = lr.fit(np.array(x_train).reshape(-1, 1), y_train)\n",
    "\n",
    "    plt.figure(figsize=(15, 6))\n",
    "    plt.scatter(x_train, y_train, color = \"blue\", label = 'data_range_actual')\n",
    "\n",
    "    b0 = model.intercept_\n",
    "    b1 = model.coef_[0]\n",
    "    x_pred = [x_train.min(), x_train.max()]                      # get the bounds for x\n",
    "    y_pred = model.predict(np.array(x_pred).reshape(-1, 1))  # predict the y values\n",
    "    plt.plot(x_pred, y_pred, color='red', label = 'model_predict')\n",
    "    #get season\n",
    "    if i == 0:\n",
    "        season = 'summer'\n",
    "    elif i == 3:\n",
    "        season = 'autumn'\n",
    "    elif i == 6:\n",
    "        season = 'winter'\n",
    "    else:\n",
    "        season = 'spring'\n",
    "        #label in season\n",
    "\n",
    "\n",
    "    plt.xlabel('dayIndex in ' + season)\n",
    "    plt.ylabel('Antarctic sea ice extent (10^6 sq km) in ' + season)\n",
    "    plt.title('Antarctic sea ice extent in day index with predicate results in ' + season)\n",
    "    plt.legend()\n",
    "    plt.show()\n",
    "\n",
    "    R_squared = model.score(np.array(resu_data['dayIndex']).reshape(-1, 1), resu_data['Total_Antarctic'])\n",
    "    # find root mean squared error\n",
    "    predict = model.predict(np.array(result_date['dayIndex']).reshape(-1, 1))\n",
    "    root_mean = np.sqrt(mean_squared_error(result_date['Total_Antarctic'], predict))\n",
    "    print('Root mean squared error: ', root_mean)\n",
    "    print('R-squared value: ', R_squared)\n",
    "\n"
   ],
   "metadata": {
    "collapsed": false,
    "pycharm": {
     "name": "#%%\n"
    }
   }
  },
  {
   "cell_type": "raw",
   "source": [
    "# YOUR WRITTEN ANSWER HERE\n"
   ],
   "metadata": {
    "collapsed": false,
    "pycharm": {
     "name": "#%% raw\n"
    }
   }
  },
  {
   "cell_type": "code",
   "execution_count": null,
   "outputs": [],
   "source": [],
   "metadata": {
    "collapsed": false,
    "pycharm": {
     "name": "#%%\n"
    }
   }
  },
  {
   "cell_type": "markdown",
   "source": [
    "- Task 3: Perform the same study as above (taking both Tasks 1 and 2 into consideration) but build 12 linear regression models for each year where one for each month in the year (8 marks: the marks in each of the five parts in Task 1 above are halved.)"
   ],
   "metadata": {
    "collapsed": false,
    "pycharm": {
     "name": "#%% md\n"
    }
   }
  },
  {
   "cell_type": "code",
   "execution_count": null,
   "outputs": [],
   "source": [
    "# YOUR CODE HERE\n",
    "def from_begin(df, begin_day):\n",
    "    \"\"\"\n",
    "    Add a column [\"numDays\"] into the pandas dataframe that\n",
    "    counts the number of days from the begin_day\n",
    "    \"\"\"\n",
    "    start_date_col = pd.to_datetime([begin_day] * df.shape[0], format='%Y/%m/%d')\n",
    "    df['dayIndex'] = (df['date'] - start_date_col).dt.days.astype(float)\n",
    "    return df.reset_index(drop=True)\n",
    "\n",
    "min_date = \"1980-01\"\n",
    "max_date = \"2021-12\"\n",
    "months = pd.date_range(start=min_date, end=max_date, freq='MS')\n",
    "months = months.strftime(\"%Y-%m\").tolist()\n",
    "\n",
    "Jun = []\n",
    "Feb = []\n",
    "Mar = []\n",
    "Apr = []\n",
    "May = []\n",
    "Jun = []\n",
    "Jul = []\n",
    "Aug = []\n",
    "Sep = []\n",
    "Oct = []\n",
    "Nov = []\n",
    "Dec = []\n",
    "\n",
    "\n",
    "for i in range(0, len(months), +1):\n",
    "    start_rec = months[i]\n",
    "    end_rec = months[-1]\n",
    "    resu_data = data[data['date'] >= months[i]]\n",
    "    resu_data = resu_data[resu_data['date'] <= months[i+1]]\n",
    "    resu_data = from_begin(resu_data, resu_data['date'].min())\n",
    "    #print(resu_data)\n",
    "\n",
    "    lr = LinearRegression()\n",
    "    x_train = resu_data['dayIndex']\n",
    "    y_train = resu_data['Total_Antarctic']\n",
    "\n",
    "    model = lr.fit(np.array(x_train).reshape(-1, 1), y_train)\n",
    "\n",
    "    plt.figure(figsize=(15, 6))\n",
    "    plt.scatter(x_train, y_train, color = \"blue\", label = 'data_range_actual')\n",
    "\n",
    "    b0 = model.intercept_\n",
    "    b1 = model.coef_[0]\n",
    "    x_pred = [x_train.min(), x_train.max()]                      # get the bounds for x\n",
    "    y_pred = model.predict(np.array(x_pred).reshape(-1, 1))  # predict the y values\n",
    "    plt.plot(x_pred, y_pred, color='red', label = 'model_predict')\n",
    "    plt.xlabel('dayIndex in'+ months[i])\n",
    "    plt.ylabel('Antarctic sea ice extent (10^6 sq km) in '+ months[i])\n",
    "    plt.title('Antarctic sea ice extent in day index with predicate results in' + months[i])\n",
    "    plt.legend()\n",
    "    plt.show()\n",
    "\n",
    "\n",
    "\n"
   ],
   "metadata": {
    "collapsed": false,
    "pycharm": {
     "name": "#%%\n"
    }
   }
  },
  {
   "cell_type": "code",
   "execution_count": null,
   "outputs": [],
   "source": [
    "def from_begin(df, begin_day):\n",
    "    \"\"\"\n",
    "    Add a column [\"numDays\"] into the pandas dataframe that\n",
    "    counts the number of days from the begin_day\n",
    "    \"\"\"\n",
    "    start_date_col = pd.to_datetime([begin_day] * df.shape[0], format='%Y/%m/%d')\n",
    "    df['dayIndex'] = (df['date'] - start_date_col).dt.days.astype(float)\n",
    "    return df.reset_index(drop=True)\n",
    "\n",
    "min_date = \"2022-01\"\n",
    "max_date = \"2023-01\"\n",
    "months = pd.date_range(start=min_date, end=max_date, freq='MS')\n",
    "months = months.strftime(\"%Y-%m\").tolist()\n",
    "\n",
    "Jan = []\n",
    "Feb = []\n",
    "Mar = []\n",
    "Apr = []\n",
    "May = []\n",
    "Jun = []\n",
    "Jul = []\n",
    "Aug = []\n",
    "Sep = []\n",
    "Oct = []\n",
    "Nov = []\n",
    "Dec = []\n",
    "\n",
    "\n",
    "\n",
    "\n",
    "for i in range(0, len(months), +1):\n",
    "    start_rec = months[i]\n",
    "    end_rec = months[-1]\n",
    "    resu_data = data[data['date'] >= months[i]]\n",
    "    resu_data = resu_data[resu_data['date'] <= months[i+1]]\n",
    "    resu_data = from_begin(resu_data, resu_data['date'].min())\n",
    "    #print(resu_data)\n",
    "\n",
    "    lr = LinearRegression()\n",
    "    x_train = resu_data['dayIndex']\n",
    "    y_train = resu_data['Total_Antarctic']\n",
    "\n",
    "    model = lr.fit(np.array(x_train).reshape(-1, 1), y_train)\n",
    "\n",
    "    plt.figure(figsize=(15, 6))\n",
    "    plt.scatter(x_train, y_train, color = \"blue\", label = 'data_range_actual')\n",
    "\n",
    "    b0 = model.intercept_\n",
    "    b1 = model.coef_[0]\n",
    "    x_pred = [x_train.min(), x_train.max()]                      # get the bounds for x\n",
    "    y_pred = model.predict(np.array(x_pred).reshape(-1, 1))  # predict the y values\n",
    "    plt.plot(x_pred, y_pred, color='red', label = 'model_predict')\n",
    "    #get season\n",
    "    if i == 0:\n",
    "        season = 'Jan'\n",
    "    elif i == 1:\n",
    "        season = 'Feb'\n",
    "    elif i == 2:\n",
    "        season = 'Mar'\n",
    "    elif i == 3:\n",
    "        season = 'Apr'\n",
    "    elif i == 4:\n",
    "        season = 'May'\n",
    "    elif i == 5:\n",
    "        season = 'Jun'\n",
    "    elif i == 6:\n",
    "        season = 'Jul'\n",
    "    elif i == 7:\n",
    "        season = 'Aug'\n",
    "    elif i == 8:\n",
    "        season = 'Sep'\n",
    "    elif i == 9:\n",
    "        season = 'Oct'\n",
    "    elif i == 10:\n",
    "        season = 'Nov'\n",
    "    elif i == 11:\n",
    "        season = 'Dec'\n",
    "\n",
    "\n",
    "    plt.xlabel('Days in a month in ' + season)\n",
    "    plt.ylabel('Antarctic sea ice extent (10^6 sq km) in ' + season)\n",
    "    plt.title('Antarctic sea ice extent in day index with predicate results in ' + season)\n",
    "    plt.legend()\n",
    "    plt.show()\n",
    "\n",
    "    R_squared = model.score(np.array(resu_data['dayIndex']).reshape(-1, 1), resu_data['Total_Antarctic'])\n",
    "    # find root mean squared error\n",
    "    predict = model.predict(np.array(result_date['dayIndex']).reshape(-1, 1))\n",
    "    root_mean = np.sqrt(mean_squared_error(result_date['Total_Antarctic'], predict))\n",
    "    print('Root mean squared error: ', root_mean)\n",
    "    print('R-squared value: ', R_squared)"
   ],
   "metadata": {
    "collapsed": false,
    "pycharm": {
     "name": "#%%\n"
    }
   }
  },
  {
   "cell_type": "raw",
   "source": [
    "# YOUR WRITTEN ANSWER HERE\n"
   ],
   "metadata": {
    "collapsed": false,
    "pycharm": {
     "name": "#%% raw\n"
    }
   }
  },
  {
   "cell_type": "markdown",
   "source": [
    "- Task 4: Compare and discuss the performance of models developed in Task 1, 2, and 3. (4 marks)"
   ],
   "metadata": {
    "collapsed": false,
    "pycharm": {
     "name": "#%% md\n"
    }
   }
  },
  {
   "cell_type": "code",
   "execution_count": null,
   "outputs": [],
   "source": [
    "# YOUR CODE HERE\n",
    "\n"
   ],
   "metadata": {
    "collapsed": false,
    "pycharm": {
     "name": "#%%\n"
    }
   }
  },
  {
   "cell_type": "raw",
   "source": [
    "# YOUR WRITTEN ANSWER HERE\n",
    "By comparing the performance of models developed in Task 1 and 2 and 3, we can see that the model in Task 2 has a better performance than the model in Task 1. The reason is R sqare value in this case is very small, it much smallar than the R square value in Task 2. The R square value in Task 2 is high, which means the model is very good. However, the R square value in task 1 is too small, which means the model is not good. The model in Task 2 is better than the model in Task 1.\n",
    "\n",
    "In Task 3, we can see that the R square value is also high, which means the model is very good.\n",
    "\n",
    "In my opinion, the model in task 2 is the best model. Because the R square value is the highest in Task 2. But actually in the real life, task3 may be the best model. However, due to the technical issue or lack of data, I can not get the accurate result of task3 becaise some of value are very high and some value extreame low. So I can not compare the performance between task2 and task 3\n"
   ],
   "metadata": {
    "collapsed": false,
    "pycharm": {
     "name": "#%% raw\n"
    }
   }
  },
  {
   "cell_type": "markdown",
   "metadata": {
    "pycharm": {
     "name": "#%% md\n"
    }
   },
   "source": [
    "- Task 5 (for bonus marks): Be creative and develop your own models using the data until 2021 and apply it to predict the sea ice extent of the year of 2022. The goal is to develop a model which gives smaller root mean squared errors than those from the models developed above. You can use Arctic data here if it helps (only for this Task in Q3). (5 bonus marks)"
   ]
  },
  {
   "cell_type": "code",
   "execution_count": 130,
   "metadata": {
    "pycharm": {
     "name": "#%%\n"
    }
   },
   "outputs": [],
   "source": [
    "# YOUR CODE HERE\n"
   ]
  },
  {
   "cell_type": "raw",
   "metadata": {
    "pycharm": {
     "name": "#%% raw\n"
    }
   },
   "source": [
    "# YOUR WRITTEN ANSWER HERE\n"
   ]
  }
 ],
 "metadata": {
  "kernelspec": {
   "display_name": "Python 3 (ipykernel)",
   "language": "python",
   "name": "python3"
  },
  "language_info": {
   "codemirror_mode": {
    "name": "ipython",
    "version": 3
   },
   "file_extension": ".py",
   "mimetype": "text/x-python",
   "name": "python",
   "nbconvert_exporter": "python",
   "pygments_lexer": "ipython3",
   "version": "3.9.7"
  }
 },
 "nbformat": 4,
 "nbformat_minor": 4
}
